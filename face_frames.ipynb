{
  "cells": [
    {
      "cell_type": "markdown",
      "metadata": {
        "id": "view-in-github",
        "colab_type": "text"
      },
      "source": [
        "<a href=\"https://colab.research.google.com/github/sana-kabbani/PD_Classification/blob/main/face_frames.ipynb\" target=\"_parent\"><img src=\"https://colab.research.google.com/assets/colab-badge.svg\" alt=\"Open In Colab\"/></a>"
      ]
    },
    {
      "cell_type": "code",
      "execution_count": null,
      "metadata": {
        "colab": {
          "background_save": true
        },
        "id": "_squz2pd0K5U"
      },
      "outputs": [],
      "source": [
        "import cv2\n",
        "import os\n",
        "\n",
        "def extract_faces_from_image(image_path, face_cascade, output_path, image_name_prefix):\n",
        "    image = cv2.imread(image_path)\n",
        "    # Convert to grayscale for the face detection\n",
        "    gray = cv2.cvtColor(image, cv2.COLOR_BGR2GRAY)\n",
        "    # Detect faces\n",
        "    faces = face_cascade.detectMultiScale(gray, scaleFactor=1.1, minNeighbors=5, minSize=(30, 30), flags=cv2.CASCADE_SCALE_IMAGE)\n",
        "\n",
        "    count = 0\n",
        "    for (x, y, w, h) in faces:\n",
        "        face = image[y:y+h, x:x+w]\n",
        "        face_filename = os.path.join(output_path, f\"{image_name_prefix}_face_{count}.jpg\")\n",
        "        cv2.imwrite(face_filename, face)\n",
        "        count += 1\n",
        "\n",
        "def process_images_in_folder(input_folder, output_folder, face_cascade_path):\n",
        "    face_cascade = cv2.CascadeClassifier(face_cascade_path)\n",
        "\n",
        "    if not os.path.exists(output_folder):\n",
        "        os.makedirs(output_folder)\n",
        "\n",
        "    # Get list of all image files in the input folder\n",
        "    image_files = [f for f in os.listdir(input_folder) if os.path.isfile(os.path.join(input_folder, f))]\n",
        "\n",
        "    for image_file in image_files:\n",
        "        image_path = os.path.join(input_folder, image_file)\n",
        "        image_name_prefix = os.path.splitext(image_file)[0]\n",
        "\n",
        "        # Process each image file\n",
        "        extract_faces_from_image(image_path, face_cascade, output_folder, image_name_prefix)\n",
        "\n",
        "# Example usage:\n",
        "input_folder = \"/content/drive/MyDrive/Data/test_non\"\n",
        "output_folder = \"/content/drive/MyDrive/Data/test_non_faces\"\n",
        "face_cascade_path = cv2.data.haarcascades + \"haarcascade_frontalface_default.xml\"  # Path to Haar cascade for face detection\n",
        "\n",
        "process_images_in_folder(input_folder, output_folder, face_cascade_path)\n",
        "\n"
      ]
    },
    {
      "cell_type": "code",
      "execution_count": null,
      "metadata": {
        "id": "Z8zb0yT83wbZ"
      },
      "outputs": [],
      "source": []
    }
  ],
  "metadata": {
    "colab": {
      "provenance": [],
      "mount_file_id": "1ccFoloChTUBifx91d6TGSiDJSCjnvMZi",
      "authorship_tag": "ABX9TyP2rXpM0RPQ8YZ/3/shfAM5",
      "include_colab_link": true
    },
    "kernelspec": {
      "display_name": "Python 3",
      "name": "python3"
    },
    "language_info": {
      "name": "python"
    }
  },
  "nbformat": 4,
  "nbformat_minor": 0
}