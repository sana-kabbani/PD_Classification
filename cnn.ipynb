{
  "cells": [
    {
      "cell_type": "code",
      "execution_count": null,
      "metadata": {
        "id": "dW0cdr4MQ-dY"
      },
      "outputs": [],
      "source": []
    },
    {
      "cell_type": "code",
      "execution_count": 1,
      "metadata": {
        "colab": {
          "base_uri": "https://localhost:8080/"
        },
        "id": "0t_wPyu8fjgr",
        "outputId": "69b688e4-e3cc-4633-d91b-d11d71a7ea3b"
      },
      "outputs": [
        {
          "output_type": "stream",
          "name": "stdout",
          "text": [
            "3.10.12 (main, Nov 20 2023, 15:14:05) [GCC 11.4.0]\n"
          ]
        }
      ],
      "source": [
        "import sys\n",
        "print(sys.version)"
      ]
    },
    {
      "cell_type": "code",
      "execution_count": 2,
      "metadata": {
        "id": "y_b3E3Ordkvr"
      },
      "outputs": [],
      "source": [
        "import pandas as pd\n",
        "import numpy as np\n",
        "import os\n",
        "\n",
        "import tensorflow as tf\n",
        "from tensorflow.keras import layers\n",
        "from tensorflow.keras.preprocessing.image import load_img, ImageDataGenerator\n",
        "from tensorflow.keras.models import Sequential, load_model\n",
        "from tensorflow.keras.layers import Conv2D, MaxPooling2D, Dropout, Flatten, Dense"
      ]
    },
    {
      "cell_type": "code",
      "execution_count": 3,
      "metadata": {
        "id": "UkzPxAejf5WK"
      },
      "outputs": [],
      "source": [
        "dataset_path = '/content/drive/MyDrive/PD_Data/imgs/'\n",
        "dirs = os.listdir(dataset_path)"
      ]
    },
    {
      "cell_type": "code",
      "execution_count": 4,
      "metadata": {
        "colab": {
          "base_uri": "https://localhost:8080/"
        },
        "id": "Y4IByeNrf6Zp",
        "outputId": "3106c032-3436-4786-89ae-b0a1fbd3e5b6"
      },
      "outputs": [
        {
          "output_type": "stream",
          "name": "stdout",
          "text": [
            "non_parkinson_faces Folder has 1266 Images\n",
            "parkinson_faces Folder has 6845 Images\n"
          ]
        }
      ],
      "source": [
        "for dir in dirs:\n",
        "  files = list(os.listdir(dataset_path + dir))\n",
        "  print(dir + ' Folder has ' + str(len(files)) + ' Images')"
      ]
    },
    {
      "cell_type": "code",
      "execution_count": 5,
      "metadata": {
        "id": "xrZRu6_cf7kh"
      },
      "outputs": [],
      "source": [
        "base_dir = dataset_path\n",
        "img_size = 180\n",
        "batch = 32"
      ]
    },
    {
      "cell_type": "code",
      "execution_count": 6,
      "metadata": {
        "colab": {
          "base_uri": "https://localhost:8080/"
        },
        "id": "-ygwNSeDf8-D",
        "outputId": "22a2b074-fac9-4865-a112-b701d91f08b1"
      },
      "outputs": [
        {
          "output_type": "stream",
          "name": "stdout",
          "text": [
            "Found 5373 files belonging to 2 classes.\n",
            "Using 4299 files for training.\n",
            "Found 5373 files belonging to 2 classes.\n",
            "Using 1074 files for validation.\n"
          ]
        }
      ],
      "source": [
        "# Load images into arrays as Dataset\n",
        "train_ds = tf.keras.utils.image_dataset_from_directory(\n",
        "    base_dir,\n",
        "    seed = 123,\n",
        "    validation_split=0.2,\n",
        "    subset = 'training',\n",
        "    batch_size=batch,\n",
        "    image_size = (img_size, img_size)\n",
        ")\n",
        "\n",
        "validation_ds = tf.keras.utils.image_dataset_from_directory(\n",
        "    base_dir,\n",
        "    seed = 123,\n",
        "    validation_split=0.2,\n",
        "    subset = 'validation',\n",
        "    batch_size=batch,\n",
        "    image_size = (img_size, img_size)\n",
        ")"
      ]
    },
    {
      "cell_type": "code",
      "execution_count": 7,
      "metadata": {
        "id": "KMqR00izgBcu"
      },
      "outputs": [],
      "source": [
        "AUTOTUNE = tf.data.AUTOTUNE"
      ]
    },
    {
      "cell_type": "code",
      "execution_count": 8,
      "metadata": {
        "id": "8XQCnLJdgEVc"
      },
      "outputs": [],
      "source": [
        "train_ds = train_ds.cache().shuffle(1000).prefetch(buffer_size=AUTOTUNE)"
      ]
    },
    {
      "cell_type": "code",
      "execution_count": 9,
      "metadata": {
        "id": "NVFuY7YsgF0A"
      },
      "outputs": [],
      "source": [
        "validation_ds = validation_ds.cache().prefetch(buffer_size=AUTOTUNE)"
      ]
    },
    {
      "cell_type": "code",
      "execution_count": 10,
      "metadata": {
        "id": "hVzYSN5GgG6K"
      },
      "outputs": [],
      "source": [
        "data_augmentation = Sequential([\n",
        "    layers.RandomFlip('horizontal', input_shape=(img_size, img_size, 3)),\n",
        "    layers.RandomRotation(0.1),\n",
        "    layers.RandomZoom(0.1)\n",
        "])"
      ]
    },
    {
      "cell_type": "code",
      "execution_count": 11,
      "metadata": {
        "id": "wocery4BfNkO"
      },
      "outputs": [],
      "source": [
        "# Creating the model\n",
        "model = Sequential([\n",
        "    data_augmentation,\n",
        "    layers.Rescaling(1./255),\n",
        "    Conv2D(16, 3, padding='same', activation='relu'),\n",
        "    MaxPooling2D(),\n",
        "    Conv2D(32, 3, padding='same', activation='relu'),\n",
        "    MaxPooling2D(),\n",
        "    Conv2D(64, 3, padding='same', activation='relu'),\n",
        "    MaxPooling2D(),\n",
        "    Dropout(0.2),\n",
        "    Flatten(),\n",
        "    Dense(128, activation='relu'),\n",
        "    Dense(3)\n",
        "\n",
        "])"
      ]
    },
    {
      "cell_type": "code",
      "execution_count": 12,
      "metadata": {
        "id": "rl-0d3AKfO4Z"
      },
      "outputs": [],
      "source": [
        "model.compile(\n",
        "    optimizer='adam',\n",
        "    loss=tf.keras.losses.SparseCategoricalCrossentropy(from_logits=True),\n",
        "    metrics=['accuracy']\n",
        ")"
      ]
    },
    {
      "cell_type": "code",
      "execution_count": 13,
      "metadata": {
        "colab": {
          "base_uri": "https://localhost:8080/"
        },
        "id": "Sz8pCnqqfQX3",
        "outputId": "4a6eaa1d-4191-4887-abdb-9e2f978fca43"
      },
      "outputs": [
        {
          "output_type": "stream",
          "name": "stdout",
          "text": [
            "Model: \"sequential_1\"\n",
            "_________________________________________________________________\n",
            " Layer (type)                Output Shape              Param #   \n",
            "=================================================================\n",
            " sequential (Sequential)     (None, 180, 180, 3)       0         \n",
            "                                                                 \n",
            " rescaling (Rescaling)       (None, 180, 180, 3)       0         \n",
            "                                                                 \n",
            " conv2d (Conv2D)             (None, 180, 180, 16)      448       \n",
            "                                                                 \n",
            " max_pooling2d (MaxPooling2  (None, 90, 90, 16)        0         \n",
            " D)                                                              \n",
            "                                                                 \n",
            " conv2d_1 (Conv2D)           (None, 90, 90, 32)        4640      \n",
            "                                                                 \n",
            " max_pooling2d_1 (MaxPoolin  (None, 45, 45, 32)        0         \n",
            " g2D)                                                            \n",
            "                                                                 \n",
            " conv2d_2 (Conv2D)           (None, 45, 45, 64)        18496     \n",
            "                                                                 \n",
            " max_pooling2d_2 (MaxPoolin  (None, 22, 22, 64)        0         \n",
            " g2D)                                                            \n",
            "                                                                 \n",
            " dropout (Dropout)           (None, 22, 22, 64)        0         \n",
            "                                                                 \n",
            " flatten (Flatten)           (None, 30976)             0         \n",
            "                                                                 \n",
            " dense (Dense)               (None, 128)               3965056   \n",
            "                                                                 \n",
            " dense_1 (Dense)             (None, 3)                 387       \n",
            "                                                                 \n",
            "=================================================================\n",
            "Total params: 3989027 (15.22 MB)\n",
            "Trainable params: 3989027 (15.22 MB)\n",
            "Non-trainable params: 0 (0.00 Byte)\n",
            "_________________________________________________________________\n"
          ]
        }
      ],
      "source": [
        "model.summary()"
      ]
    },
    {
      "cell_type": "code",
      "execution_count": 14,
      "metadata": {
        "colab": {
          "base_uri": "https://localhost:8080/"
        },
        "id": "FPFzm56DQWSv",
        "outputId": "1da082cb-aba7-4c3d-edc1-6f1399ce1d13"
      },
      "outputs": [
        {
          "output_type": "stream",
          "name": "stdout",
          "text": [
            "Using device: /GPU:0\n"
          ]
        }
      ],
      "source": [
        "# Check if a GPU is available and set the device\n",
        "if tf.config.list_physical_devices('GPU'):\n",
        "    device = '/GPU:0'\n",
        "else:\n",
        "    device = '/CPU:0'\n",
        "print(f\"Using device: {device}\")\n",
        "\n",
        "# Place model on the specified device\n",
        "with tf.device(device):\n",
        "    model.build(input_shape=(None, 224, 224, 3))  # Example input shape\n"
      ]
    },
    {
      "cell_type": "code",
      "execution_count": 15,
      "metadata": {
        "colab": {
          "base_uri": "https://localhost:8080/"
        },
        "id": "Qhr0nPncfSCC",
        "outputId": "4c009056-69fa-4aab-ac46-203671a733f6"
      },
      "outputs": [
        {
          "output_type": "stream",
          "name": "stdout",
          "text": [
            "Epoch 1/8\n",
            "135/135 [==============================] - 664s 1s/step - loss: 0.3963 - accuracy: 0.8044 - val_loss: 0.1968 - val_accuracy: 0.9209\n",
            "Epoch 2/8\n",
            "135/135 [==============================] - 4s 30ms/step - loss: 0.1636 - accuracy: 0.9339 - val_loss: 0.0805 - val_accuracy: 0.9683\n",
            "Epoch 3/8\n",
            "135/135 [==============================] - 4s 28ms/step - loss: 0.1212 - accuracy: 0.9518 - val_loss: 0.0995 - val_accuracy: 0.9562\n",
            "Epoch 4/8\n",
            "135/135 [==============================] - 4s 28ms/step - loss: 0.0971 - accuracy: 0.9656 - val_loss: 0.0494 - val_accuracy: 0.9832\n",
            "Epoch 5/8\n",
            "135/135 [==============================] - 4s 29ms/step - loss: 0.0793 - accuracy: 0.9728 - val_loss: 0.0504 - val_accuracy: 0.9814\n",
            "Epoch 6/8\n",
            "135/135 [==============================] - 4s 28ms/step - loss: 0.0565 - accuracy: 0.9802 - val_loss: 0.0416 - val_accuracy: 0.9860\n",
            "Epoch 7/8\n",
            "135/135 [==============================] - 4s 28ms/step - loss: 0.0599 - accuracy: 0.9784 - val_loss: 0.0285 - val_accuracy: 0.9888\n",
            "Epoch 8/8\n",
            "135/135 [==============================] - 4s 30ms/step - loss: 0.0607 - accuracy: 0.9751 - val_loss: 0.0615 - val_accuracy: 0.9795\n"
          ]
        }
      ],
      "source": [
        "history = model.fit(\n",
        "    train_ds,\n",
        "    epochs=8,\n",
        "    validation_data=validation_ds,\n",
        "    batch_size=128,\n",
        ")"
      ]
    },
    {
      "cell_type": "code",
      "execution_count": 16,
      "metadata": {
        "id": "AgRgqwlefUJt",
        "colab": {
          "base_uri": "https://localhost:8080/",
          "height": 452
        },
        "outputId": "e67d42e6-6e69-42c5-cebf-efb162d68715"
      },
      "outputs": [
        {
          "output_type": "display_data",
          "data": {
            "text/plain": [
              "<Figure size 640x480 with 1 Axes>"
            ],
            "image/png": "[encoded data removed]"
          },
          "metadata": {}
        }
      ],
      "source": [
        "import matplotlib.pyplot as plt  # Import the necessary module\n",
        "\n",
        "plt.title(\"Loss Rate in CNN\")\n",
        "plt.plot(history.history[\"loss\"], label = \"Train Loss\")\n",
        "plt.plot(history.history[\"val_loss\"], label = \"Validation Loss\")\n",
        "#loss ve accuracy Train uzerinde, val_loss ve val_accuracy Test uzerindeki sonuclar\n",
        "plt.legend()\n",
        "plt.show()"
      ]
    },
    {
      "cell_type": "code",
      "execution_count": 17,
      "metadata": {
        "id": "l8vnSqn2fVUm",
        "colab": {
          "base_uri": "https://localhost:8080/",
          "height": 452
        },
        "outputId": "1261b664-9531-4fc0-dc4f-9ad35017612c"
      },
      "outputs": [
        {
          "output_type": "display_data",
          "data": {
            "text/plain": [
              "<Figure size 640x480 with 1 Axes>"
            ],
            "image/png": "[encoded data removed]"
          },
          "metadata": {}
        }
      ],
      "source": [
        "plt.figure()\n",
        "plt.title(\"Accuracy Rate in CNN\")\n",
        "plt.plot(history.history[\"accuracy\"], label = \"Train Accuracy\")\n",
        "plt.plot(history.history[\"val_accuracy\"], label = \"Validation Accuracy\")\n",
        "plt.legend()\n",
        "plt.show()"
      ]
    },
    {
      "cell_type": "code",
      "execution_count": 18,
      "metadata": {
        "id": "osf-1wy5fYm-",
        "colab": {
          "base_uri": "https://localhost:8080/"
        },
        "outputId": "39c2b0d4-8946-41e0-f2dc-48354ae1f2e5"
      },
      "outputs": [
        {
          "output_type": "execute_result",
          "data": {
            "text/plain": [
              "['frame_3000.jpg',\n",
              " 'frame_6000.jpg',\n",
              " 'frame_9000.jpg',\n",
              " 'frame_29625.jpg',\n",
              " 'frame_28125.jpg',\n",
              " 'frame_28750.jpg',\n",
              " 'frame_27875.jpg',\n",
              " 'frame_28000.jpg',\n",
              " 'frame_31125.jpg',\n",
              " 'frame_29875.jpg',\n",
              " 'frame_28500.jpg',\n",
              " 'frame_27625.jpg',\n",
              " 'frame_29375.jpg',\n",
              " 'frame_27750.jpg',\n",
              " 'frame_29000.jpg',\n",
              " 'frame_29500.jpg',\n",
              " 'frame_28625.jpg',\n",
              " 'frame_27500.jpg',\n",
              " 'frame_29750.jpg',\n",
              " 'frame_30250.jpg',\n",
              " 'frame_31000.jpg',\n",
              " 'frame_28250.jpg',\n",
              " 'frame_30750.jpg',\n",
              " 'frame_30000.jpg',\n",
              " 'frame_48552.jpg',\n",
              " 'frame_48433.jpg',\n",
              " 'frame_47600.jpg',\n",
              " 'frame_47838.jpg',\n",
              " 'frame_48314.jpg',\n",
              " 'frame_50456.jpg',\n",
              " 'frame_50813.jpg',\n",
              " 'frame_50218.jpg',\n",
              " 'frame_48195.jpg',\n",
              " 'frame_47957.jpg',\n",
              " 'frame_49266.jpg',\n",
              " 'frame_52836.jpg',\n",
              " 'frame_58667.jpg',\n",
              " 'frame_55335.jpg',\n",
              " 'frame_55573.jpg',\n",
              " 'frame_51646.jpg',\n",
              " 'frame_51765.jpg',\n",
              " 'frame_53669.jpg',\n",
              " 'frame_50099.jpg',\n",
              " 'frame_57001.jpg',\n",
              " 'frame_51408.jpg',\n",
              " 'frame_57239.jpg',\n",
              " 'frame_52955.jpg',\n",
              " 'frame_52122.jpg',\n",
              " 'frame_54264.jpg',\n",
              " 'frame_53788.jpg',\n",
              " 'frame_52598.jpg',\n",
              " 'frame_49147.jpg',\n",
              " 'frame_49861.jpg',\n",
              " 'frame_49742.jpg',\n",
              " 'frame_50575.jpg',\n",
              " 'frame_55216.jpg',\n",
              " 'frame_59619.jpg',\n",
              " 'frame_56406.jpg',\n",
              " 'frame_58072.jpg',\n",
              " 'frame_56882.jpg',\n",
              " 'frame_57834.jpg',\n",
              " 'frame_57953.jpg',\n",
              " 'frame_55692.jpg',\n",
              " 'frame_56168.jpg',\n",
              " 'frame_51527.jpg',\n",
              " 'frame_52003.jpg',\n",
              " 'frame_57477.jpg',\n",
              " 'frame_52479.jpg',\n",
              " 'frame_54621.jpg',\n",
              " 'frame_54383.jpg',\n",
              " 'frame_57596.jpg',\n",
              " 'frame_59143.jpg',\n",
              " 'frame_60571.jpg',\n",
              " 'frame_53550.jpg',\n",
              " 'frame_62951.jpg',\n",
              " 'frame_62356.jpg',\n",
              " 'frame_60452.jpg',\n",
              " 'frame_58191.jpg',\n",
              " 'frame_56763.jpg',\n",
              " 'frame_62832.jpg',\n",
              " 'frame_59857.jpg',\n",
              " 'frame_60333.jpg',\n",
              " 'frame_57358.jpg',\n",
              " 'frame_60928.jpg',\n",
              " 'frame_13080.jpg',\n",
              " 'frame_15240.jpg',\n",
              " 'frame_13560.jpg',\n",
              " 'frame_13800.jpg',\n",
              " 'frame_17400.jpg',\n",
              " 'frame_17760.jpg',\n",
              " 'frame_14520.jpg',\n",
              " 'frame_13200.jpg',\n",
              " 'frame_14760.jpg',\n",
              " 'frame_15120.jpg',\n",
              " 'frame_13680.jpg',\n",
              " 'frame_13320.jpg',\n",
              " 'frame_16200.jpg',\n",
              " 'frame_17520.jpg',\n",
              " 'frame_13440.jpg',\n",
              " 'frame_15840.jpg',\n",
              " 'frame_15000.jpg',\n",
              " 'frame_17880.jpg',\n",
              " 'frame_14640.jpg',\n",
              " 'frame_17640.jpg',\n",
              " 'frame_14400.jpg',\n",
              " 'frame_15960.jpg',\n",
              " 'frame_12960.jpg',\n",
              " 'frame_14880.jpg',\n",
              " 'frame_16320.jpg',\n",
              " 'frame_16080.jpg',\n",
              " 'frame_16440.jpg',\n",
              " 'frame_18120.jpg',\n",
              " 'frame_17280.jpg',\n",
              " 'frame_18000.jpg',\n",
              " 'frame_16560.jpg',\n",
              " 'frame_16680.jpg']"
            ]
          },
          "metadata": {},
          "execution_count": 18
        }
      ],
      "source": [
        "# Testing the model\n",
        "sample_ds_path = '/content/drive/MyDrive/Data/Frames/test/parkinson/'\n",
        "sample_dir = os.listdir(sample_ds_path)\n",
        "sample_dir"
      ]
    },
    {
      "cell_type": "code",
      "execution_count": 19,
      "metadata": {
        "id": "NNPO_dLYfbrA"
      },
      "outputs": [],
      "source": [
        "def classify_images(image_path):\n",
        "  input_image = tf.keras.utils.load_img(image_path, target_size=(180, 180))\n",
        "  input_image_array = tf.keras.utils.img_to_array(input_image)\n",
        "  input_image_exp_dim = tf.expand_dims(input_image_array, 0)\n",
        "\n",
        "  predictions = model.predict(input_image_exp_dim)\n",
        "  result = tf.nn.softmax(predictions[0])\n",
        "  outcome = chart_names[np.argmax(result)] + ', Score: ' + str(np.max(result)*100)\n",
        "  return outcome"
      ]
    },
    {
      "cell_type": "code",
      "execution_count": 20,
      "metadata": {
        "id": "lT83efzJXe3e",
        "colab": {
          "base_uri": "https://localhost:8080/"
        },
        "outputId": "f6a7ce3e-406e-4a23-e0a9-ddbeeab3c8e9"
      },
      "outputs": [
        {
          "output_type": "execute_result",
          "data": {
            "text/plain": [
              "['parkinson', 'non_parkinson']"
            ]
          },
          "metadata": {},
          "execution_count": 20
        }
      ],
      "source": [
        "chart_names = ['parkinson' , 'non_parkinson']\n",
        "chart_names"
      ]
    },
    {
      "cell_type": "code",
      "execution_count": 21,
      "metadata": {
        "id": "-58vekFffc6R",
        "colab": {
          "base_uri": "https://localhost:8080/"
        },
        "outputId": "d90d63c5-5670-42af-bb77-2648316255b2"
      },
      "outputs": [
        {
          "output_type": "stream",
          "name": "stdout",
          "text": [
            "1/1 [==============================] - 0s 315ms/step\n",
            "Image: frame_3000.jpg, Result: non_parkinson, Score: 99.29319620132446\n",
            "1/1 [==============================] - 0s 34ms/step\n",
            "Image: frame_6000.jpg, Result: non_parkinson, Score: 62.30589151382446\n",
            "1/1 [==============================] - 0s 32ms/step\n",
            "Image: frame_9000.jpg, Result: non_parkinson, Score: 97.71690964698792\n",
            "1/1 [==============================] - 0s 19ms/step\n",
            "Image: frame_29625.jpg, Result: non_parkinson, Score: 84.90398526191711\n",
            "1/1 [==============================] - 0s 18ms/step\n",
            "Image: frame_28125.jpg, Result: non_parkinson, Score: 99.99942779541016\n",
            "1/1 [==============================] - 0s 19ms/step\n",
            "Image: frame_28750.jpg, Result: non_parkinson, Score: 99.7537612915039\n",
            "1/1 [==============================] - 0s 17ms/step\n",
            "Image: frame_27875.jpg, Result: non_parkinson, Score: 100.0\n",
            "1/1 [==============================] - 0s 17ms/step\n",
            "Image: frame_28000.jpg, Result: non_parkinson, Score: 99.99990463256836\n",
            "1/1 [==============================] - 0s 18ms/step\n",
            "Image: frame_31125.jpg, Result: non_parkinson, Score: 99.80480670928955\n",
            "1/1 [==============================] - 0s 17ms/step\n",
            "Image: frame_29875.jpg, Result: non_parkinson, Score: 54.04993295669556\n",
            "1/1 [==============================] - 0s 17ms/step\n",
            "Image: frame_28500.jpg, Result: non_parkinson, Score: 99.99995231628418\n",
            "1/1 [==============================] - 0s 16ms/step\n",
            "Image: frame_27625.jpg, Result: non_parkinson, Score: 99.97420907020569\n",
            "1/1 [==============================] - 0s 17ms/step\n",
            "Image: frame_29375.jpg, Result: non_parkinson, Score: 99.99905824661255\n",
            "1/1 [==============================] - 0s 19ms/step\n",
            "Image: frame_27750.jpg, Result: non_parkinson, Score: 100.0\n",
            "1/1 [==============================] - 0s 17ms/step\n",
            "Image: frame_29000.jpg, Result: non_parkinson, Score: 99.13817048072815\n",
            "1/1 [==============================] - 0s 18ms/step\n",
            "Image: frame_29500.jpg, Result: parkinson, Score: 96.8798577785492\n",
            "1/1 [==============================] - 0s 16ms/step\n",
            "Image: frame_28625.jpg, Result: non_parkinson, Score: 99.93712306022644\n",
            "1/1 [==============================] - 0s 18ms/step\n",
            "Image: frame_27500.jpg, Result: non_parkinson, Score: 99.99991655349731\n",
            "1/1 [==============================] - 0s 17ms/step\n",
            "Image: frame_29750.jpg, Result: parkinson, Score: 96.25884294509888\n",
            "1/1 [==============================] - 0s 21ms/step\n",
            "Image: frame_30250.jpg, Result: parkinson, Score: 93.77086162567139\n",
            "1/1 [==============================] - 0s 18ms/step\n",
            "Image: frame_31000.jpg, Result: non_parkinson, Score: 99.9898910522461\n",
            "1/1 [==============================] - 0s 16ms/step\n",
            "Image: frame_28250.jpg, Result: non_parkinson, Score: 94.81236338615417\n",
            "1/1 [==============================] - 0s 19ms/step\n",
            "Image: frame_30750.jpg, Result: parkinson, Score: 95.1560378074646\n",
            "1/1 [==============================] - 0s 18ms/step\n",
            "Image: frame_30000.jpg, Result: parkinson, Score: 52.13385224342346\n",
            "1/1 [==============================] - 0s 17ms/step\n",
            "Image: frame_48552.jpg, Result: parkinson, Score: 87.46224641799927\n",
            "1/1 [==============================] - 0s 18ms/step\n",
            "Image: frame_48433.jpg, Result: parkinson, Score: 54.01504039764404\n",
            "1/1 [==============================] - 0s 16ms/step\n",
            "Image: frame_47600.jpg, Result: non_parkinson, Score: 50.93488693237305\n",
            "1/1 [==============================] - 0s 29ms/step\n",
            "Image: frame_47838.jpg, Result: parkinson, Score: 63.381993770599365\n",
            "1/1 [==============================] - 0s 26ms/step\n",
            "Image: frame_48314.jpg, Result: parkinson, Score: 51.84067487716675\n",
            "1/1 [==============================] - 0s 17ms/step\n",
            "Image: frame_50456.jpg, Result: non_parkinson, Score: 64.81106877326965\n",
            "1/1 [==============================] - 0s 17ms/step\n",
            "Image: frame_50813.jpg, Result: non_parkinson, Score: 61.85606122016907\n",
            "1/1 [==============================] - 0s 16ms/step\n",
            "Image: frame_50218.jpg, Result: parkinson, Score: 62.00246810913086\n",
            "1/1 [==============================] - 0s 16ms/step\n",
            "Image: frame_48195.jpg, Result: parkinson, Score: 51.89166069030762\n",
            "1/1 [==============================] - 0s 17ms/step\n",
            "Image: frame_47957.jpg, Result: parkinson, Score: 56.30357265472412\n",
            "1/1 [==============================] - 0s 18ms/step\n",
            "Image: frame_49266.jpg, Result: parkinson, Score: 77.74155735969543\n",
            "1/1 [==============================] - 0s 17ms/step\n",
            "Image: frame_52836.jpg, Result: parkinson, Score: 86.60690784454346\n",
            "1/1 [==============================] - 0s 18ms/step\n",
            "Image: frame_58667.jpg, Result: parkinson, Score: 96.92506790161133\n",
            "1/1 [==============================] - 0s 20ms/step\n",
            "Image: frame_55335.jpg, Result: parkinson, Score: 55.77045679092407\n",
            "1/1 [==============================] - 0s 20ms/step\n",
            "Image: frame_55573.jpg, Result: non_parkinson, Score: 73.51592183113098\n",
            "1/1 [==============================] - 0s 23ms/step\n",
            "Image: frame_51646.jpg, Result: parkinson, Score: 78.8418173789978\n",
            "1/1 [==============================] - 0s 19ms/step\n",
            "Image: frame_51765.jpg, Result: parkinson, Score: 94.39960718154907\n",
            "1/1 [==============================] - 0s 18ms/step\n",
            "Image: frame_53669.jpg, Result: parkinson, Score: 92.98984408378601\n",
            "1/1 [==============================] - 0s 19ms/step\n",
            "Image: frame_50099.jpg, Result: parkinson, Score: 84.44454669952393\n",
            "1/1 [==============================] - 0s 26ms/step\n",
            "Image: frame_57001.jpg, Result: non_parkinson, Score: 61.40736937522888\n",
            "1/1 [==============================] - 0s 18ms/step\n",
            "Image: frame_51408.jpg, Result: parkinson, Score: 83.46109390258789\n",
            "1/1 [==============================] - 0s 18ms/step\n",
            "Image: frame_57239.jpg, Result: non_parkinson, Score: 61.136698722839355\n",
            "1/1 [==============================] - 0s 19ms/step\n",
            "Image: frame_52955.jpg, Result: non_parkinson, Score: 89.26800489425659\n",
            "1/1 [==============================] - 0s 17ms/step\n",
            "Image: frame_52122.jpg, Result: parkinson, Score: 91.17827415466309\n",
            "1/1 [==============================] - 0s 16ms/step\n",
            "Image: frame_54264.jpg, Result: parkinson, Score: 61.26406788825989\n",
            "1/1 [==============================] - 0s 17ms/step\n",
            "Image: frame_53788.jpg, Result: parkinson, Score: 88.28005194664001\n",
            "1/1 [==============================] - 0s 19ms/step\n",
            "Image: frame_52598.jpg, Result: parkinson, Score: 75.71203708648682\n",
            "1/1 [==============================] - 0s 17ms/step\n",
            "Image: frame_49147.jpg, Result: parkinson, Score: 95.5472469329834\n",
            "1/1 [==============================] - 0s 16ms/step\n",
            "Image: frame_49861.jpg, Result: parkinson, Score: 89.66807723045349\n",
            "1/1 [==============================] - 0s 18ms/step\n",
            "Image: frame_49742.jpg, Result: parkinson, Score: 65.21026492118835\n",
            "1/1 [==============================] - 0s 18ms/step\n",
            "Image: frame_50575.jpg, Result: non_parkinson, Score: 72.43191599845886\n",
            "1/1 [==============================] - 0s 16ms/step\n",
            "Image: frame_55216.jpg, Result: parkinson, Score: 74.07845258712769\n",
            "1/1 [==============================] - 0s 16ms/step\n",
            "Image: frame_59619.jpg, Result: parkinson, Score: 94.49580311775208\n",
            "1/1 [==============================] - 0s 17ms/step\n",
            "Image: frame_56406.jpg, Result: parkinson, Score: 72.9752242565155\n",
            "1/1 [==============================] - 0s 20ms/step\n",
            "Image: frame_58072.jpg, Result: non_parkinson, Score: 51.3511061668396\n",
            "1/1 [==============================] - 0s 19ms/step\n",
            "Image: frame_56882.jpg, Result: non_parkinson, Score: 59.45754647254944\n",
            "1/1 [==============================] - 0s 23ms/step\n",
            "Image: frame_57834.jpg, Result: non_parkinson, Score: 81.93961977958679\n",
            "1/1 [==============================] - 0s 16ms/step\n",
            "Image: frame_57953.jpg, Result: non_parkinson, Score: 70.77587842941284\n",
            "1/1 [==============================] - 0s 16ms/step\n",
            "Image: frame_55692.jpg, Result: parkinson, Score: 52.952271699905396\n",
            "1/1 [==============================] - 0s 18ms/step\n",
            "Image: frame_56168.jpg, Result: parkinson, Score: 86.53464317321777\n",
            "1/1 [==============================] - 0s 17ms/step\n",
            "Image: frame_51527.jpg, Result: parkinson, Score: 90.9771978855133\n",
            "1/1 [==============================] - 0s 17ms/step\n",
            "Image: frame_52003.jpg, Result: parkinson, Score: 83.21840763092041\n",
            "1/1 [==============================] - 0s 17ms/step\n",
            "Image: frame_57477.jpg, Result: non_parkinson, Score: 63.80600333213806\n",
            "1/1 [==============================] - 0s 16ms/step\n",
            "Image: frame_52479.jpg, Result: non_parkinson, Score: 60.26413440704346\n",
            "1/1 [==============================] - 0s 32ms/step\n",
            "Image: frame_54621.jpg, Result: non_parkinson, Score: 76.22483372688293\n",
            "1/1 [==============================] - 0s 17ms/step\n",
            "Image: frame_54383.jpg, Result: parkinson, Score: 69.1221535205841\n",
            "1/1 [==============================] - 0s 18ms/step\n",
            "Image: frame_57596.jpg, Result: parkinson, Score: 58.01692008972168\n",
            "1/1 [==============================] - 0s 17ms/step\n",
            "Image: frame_59143.jpg, Result: parkinson, Score: 56.38505220413208\n",
            "1/1 [==============================] - 0s 16ms/step\n",
            "Image: frame_60571.jpg, Result: parkinson, Score: 74.19024705886841\n",
            "1/1 [==============================] - 0s 17ms/step\n",
            "Image: frame_53550.jpg, Result: parkinson, Score: 73.95596504211426\n",
            "1/1 [==============================] - 0s 19ms/step\n",
            "Image: frame_62951.jpg, Result: non_parkinson, Score: 56.371909379959106\n",
            "1/1 [==============================] - 0s 37ms/step\n",
            "Image: frame_62356.jpg, Result: non_parkinson, Score: 78.25852036476135\n",
            "1/1 [==============================] - 0s 18ms/step\n",
            "Image: frame_60452.jpg, Result: non_parkinson, Score: 93.57882738113403\n",
            "1/1 [==============================] - 0s 17ms/step\n",
            "Image: frame_58191.jpg, Result: parkinson, Score: 88.82984519004822\n",
            "1/1 [==============================] - 0s 17ms/step\n",
            "Image: frame_56763.jpg, Result: non_parkinson, Score: 72.76405692100525\n",
            "1/1 [==============================] - 0s 16ms/step\n",
            "Image: frame_62832.jpg, Result: parkinson, Score: 66.38644337654114\n",
            "1/1 [==============================] - 0s 17ms/step\n",
            "Image: frame_59857.jpg, Result: parkinson, Score: 93.31326484680176\n",
            "1/1 [==============================] - 0s 16ms/step\n",
            "Image: frame_60333.jpg, Result: parkinson, Score: 54.623591899871826\n",
            "1/1 [==============================] - 0s 17ms/step\n",
            "Image: frame_57358.jpg, Result: non_parkinson, Score: 96.44328355789185\n",
            "1/1 [==============================] - 0s 20ms/step\n",
            "Image: frame_60928.jpg, Result: parkinson, Score: 71.26792073249817\n",
            "1/1 [==============================] - 0s 17ms/step\n",
            "Image: frame_13080.jpg, Result: parkinson, Score: 99.5937705039978\n",
            "1/1 [==============================] - 0s 17ms/step\n",
            "Image: frame_15240.jpg, Result: parkinson, Score: 99.88916516304016\n",
            "1/1 [==============================] - 0s 17ms/step\n",
            "Image: frame_13560.jpg, Result: parkinson, Score: 99.51451420783997\n",
            "1/1 [==============================] - 0s 18ms/step\n",
            "Image: frame_13800.jpg, Result: parkinson, Score: 99.85153079032898\n",
            "1/1 [==============================] - 0s 17ms/step\n",
            "Image: frame_17400.jpg, Result: parkinson, Score: 99.99878406524658\n",
            "1/1 [==============================] - 0s 17ms/step\n",
            "Image: frame_17760.jpg, Result: parkinson, Score: 99.99929666519165\n",
            "1/1 [==============================] - 0s 17ms/step\n",
            "Image: frame_14520.jpg, Result: parkinson, Score: 99.83904361724854\n",
            "1/1 [==============================] - 0s 19ms/step\n",
            "Image: frame_13200.jpg, Result: parkinson, Score: 99.75348711013794\n",
            "1/1 [==============================] - 0s 26ms/step\n",
            "Image: frame_14760.jpg, Result: parkinson, Score: 99.34179782867432\n",
            "1/1 [==============================] - 0s 27ms/step\n",
            "Image: frame_15120.jpg, Result: parkinson, Score: 99.86386895179749\n",
            "1/1 [==============================] - 0s 25ms/step\n",
            "Image: frame_13680.jpg, Result: parkinson, Score: 98.88790845870972\n",
            "1/1 [==============================] - 0s 32ms/step\n",
            "Image: frame_13320.jpg, Result: parkinson, Score: 99.4355857372284\n",
            "1/1 [==============================] - 0s 25ms/step\n",
            "Image: frame_16200.jpg, Result: parkinson, Score: 99.99898672103882\n",
            "1/1 [==============================] - 0s 24ms/step\n",
            "Image: frame_17520.jpg, Result: parkinson, Score: 99.99902248382568\n",
            "1/1 [==============================] - 0s 24ms/step\n",
            "Image: frame_13440.jpg, Result: parkinson, Score: 99.07464981079102\n",
            "1/1 [==============================] - 0s 25ms/step\n",
            "Image: frame_15840.jpg, Result: parkinson, Score: 99.99898672103882\n",
            "1/1 [==============================] - 0s 25ms/step\n",
            "Image: frame_15000.jpg, Result: parkinson, Score: 99.9341070652008\n",
            "1/1 [==============================] - 0s 27ms/step\n",
            "Image: frame_17880.jpg, Result: parkinson, Score: 99.99866485595703\n",
            "1/1 [==============================] - 0s 37ms/step\n",
            "Image: frame_14640.jpg, Result: parkinson, Score: 99.55299496650696\n",
            "1/1 [==============================] - 0s 34ms/step\n",
            "Image: frame_17640.jpg, Result: parkinson, Score: 99.99831914901733\n",
            "1/1 [==============================] - 0s 28ms/step\n",
            "Image: frame_14400.jpg, Result: parkinson, Score: 99.92746710777283\n",
            "1/1 [==============================] - 0s 45ms/step\n",
            "Image: frame_15960.jpg, Result: parkinson, Score: 99.99737739562988\n",
            "1/1 [==============================] - 0s 34ms/step\n",
            "Image: frame_12960.jpg, Result: parkinson, Score: 99.08666610717773\n",
            "1/1 [==============================] - 0s 28ms/step\n",
            "Image: frame_14880.jpg, Result: parkinson, Score: 99.60154891014099\n",
            "1/1 [==============================] - 0s 28ms/step\n",
            "Image: frame_16320.jpg, Result: parkinson, Score: 99.99877214431763\n",
            "1/1 [==============================] - 0s 28ms/step\n",
            "Image: frame_16080.jpg, Result: parkinson, Score: 99.99823570251465\n",
            "1/1 [==============================] - 0s 27ms/step\n",
            "Image: frame_16440.jpg, Result: parkinson, Score: 99.99971389770508\n",
            "1/1 [==============================] - 0s 26ms/step\n",
            "Image: frame_18120.jpg, Result: parkinson, Score: 99.99958276748657\n",
            "1/1 [==============================] - 0s 24ms/step\n",
            "Image: frame_17280.jpg, Result: parkinson, Score: 99.99895095825195\n",
            "1/1 [==============================] - 0s 25ms/step\n",
            "Image: frame_18000.jpg, Result: parkinson, Score: 99.99845027923584\n",
            "1/1 [==============================] - 0s 26ms/step\n",
            "Image: frame_16560.jpg, Result: parkinson, Score: 99.99947547912598\n",
            "1/1 [==============================] - 0s 30ms/step\n",
            "Image: frame_16680.jpg, Result: parkinson, Score: 99.99890327453613\n"
          ]
        }
      ],
      "source": [
        "for img in sample_dir:\n",
        "  img_path = sample_ds_path + img\n",
        "  cls = classify_images(img_path)\n",
        "  print(f'Image: {img}, Result: {cls}')"
      ]
    }
  ],
  "metadata": {
    "colab": {
      "provenance": [],
      "gpuType": "T4",
      "mount_file_id": "1MkQziFNUfHH24WCQTk6RnytB8CMFh_H5",
      "authorship_tag": "ABX9TyMUYwjK/Mo9kcaTE8nwglF8"
    },
    "kernelspec": {
      "display_name": "Python 3",
      "name": "python3"
    },
    "language_info": {
      "name": "python"
    },
    "accelerator": "GPU"
  },
  "nbformat": 4,
  "nbformat_minor": 0
}
