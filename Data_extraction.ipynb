{
  "cells": [
    {
      "cell_type": "markdown",
      "metadata": {
        "id": "view-in-github",
        "colab_type": "text"
      },
      "source": [
        "<a href=\"https://colab.research.google.com/github/sana-kabbani/PD_Classification/blob/main/Data_extraction.ipynb\" target=\"_parent\"><img src=\"https://colab.research.google.com/assets/colab-badge.svg\" alt=\"Open In Colab\"/></a>"
      ]
    },
    {
      "cell_type": "markdown",
      "source": [
        "**DOWNLOAD VİDEOS**"
      ],
      "metadata": {
        "id": "0BKSOM0ngvHO"
      }
    },
    {
      "cell_type": "code",
      "execution_count": null,
      "metadata": {
        "colab": {
          "base_uri": "https://localhost:8080/"
        },
        "id": "h6FqUnpQ6EHI",
        "outputId": "ea19d5a2-b49c-4e0f-986a-b36dd933d419"
      },
      "outputs": [
        {
          "name": "stdout",
          "output_type": "stream",
          "text": [
            "Video Downloaded Successfully!\n"
          ]
        }
      ],
      "source": [
        "from pytube import YouTube\n",
        "video_url=[\"https://www.youtube.com/watch?v=iFmQsw3ZWYs\" ]\n",
        "for item in video_url:\n",
        "  yt = YouTube(item)\n",
        "  stream = stream = yt.streams.get_highest_resolution()\n",
        "  video_path = '/content/drive/MyDrive/Data/test_non'\n",
        "  stream.download(output_path=video_path)\n",
        "  print('Video Downloaded Successfully!')"
      ]
    },
    {
      "cell_type": "code",
      "execution_count": null,
      "metadata": {
        "colab": {
          "base_uri": "https://localhost:8080/"
        },
        "id": "lE0Qpv9zPfMQ",
        "outputId": "79def725-dc75-404e-dd67-8926282c9921"
      },
      "outputs": [
        {
          "name": "stdout",
          "output_type": "stream",
          "text": [
            "Mounted at /content/drive\n"
          ]
        }
      ],
      "source": [
        "from google.colab import drive\n",
        "drive.mount('/content/drive')"
      ]
    },
    {
      "cell_type": "markdown",
      "source": [
        "**VİDEO_TO_FRAMES**"
      ],
      "metadata": {
        "id": "r3y7XPtIg99U"
      }
    },
    {
      "cell_type": "code",
      "execution_count": null,
      "metadata": {
        "id": "zKNDJJcx7anG"
      },
      "outputs": [],
      "source": [
        "import cv2\n",
        "import os\n",
        "\n",
        "def video_to_frames(video_path, output_path, interval=3):\n",
        "    # Open the video file\n",
        "    vidcap = cv2.VideoCapture(video_path)\n",
        "    success, image = vidcap.read()\n",
        "    count = 0\n",
        "    frame_rate = vidcap.get(cv2.CAP_PROP_FPS)\n",
        "    interval_frames = int(interval * frame_rate)\n",
        "\n",
        "    # Create output directory if it doesn't exist\n",
        "    if not os.path.exists(output_path):\n",
        "        os.makedirs(output_path)\n",
        "\n",
        "    # Loop through the video and save frames at the specified interval\n",
        "    while success:\n",
        "        if count % interval_frames == 0:\n",
        "            frame_name = os.path.join(output_path, f\"frame_{count}.jpg\")\n",
        "            cv2.imwrite(frame_name, image)  # save frame as JPEG file\n",
        "        success, image = vidcap.read()\n",
        "        count += 1\n",
        "\n",
        "    vidcap.release()\n",
        "\n",
        "def process_videos_in_folder(input_folder, output_folder, interval=3):\n",
        "    # Get list of all video files in the input folder\n",
        "    video_files = [f for f in os.listdir(input_folder) if os.path.isfile(os.path.join(input_folder, f))]\n",
        "\n",
        "    for video_file in video_files:\n",
        "        video_path = os.path.join(input_folder, video_file)\n",
        "        video_name = os.path.splitext(video_file)[0]\n",
        "        output_path = os.path.join(output_folder, video_name)\n",
        "\n",
        "        # Process each video file\n",
        "        video_to_frames(video_path, output_path, interval)\n",
        "\n",
        "# Example usage:\n",
        "input_folder =  '/content/drive/MyDrive/Data/Healthy People/Untitled Folder'\n",
        "\n",
        "output_folder = '/content/drive/MyDrive/Data/Healthy People/Frames'\n",
        "interval = 3  # Interval in seconds\n",
        "process_videos_in_folder(input_folder, output_folder, interval)\n"
      ]
    },
    {
      "cell_type": "markdown",
      "source": [
        "**Audio extraction**"
      ],
      "metadata": {
        "id": "OCKPe2LOhj8y"
      }
    },
    {
      "cell_type": "code",
      "execution_count": null,
      "metadata": {
        "colab": {
          "background_save": true
        },
        "id": "vgNav3HN8zeg"
      },
      "outputs": [],
      "source": [
        "from moviepy.editor import VideoFileClip\n",
        "import os\n",
        "\n",
        "folder_path = '/content/drive/MyDrive/Data/test_non'\n",
        "\n",
        "output_audio_path = \"/content/drive/MyDrive/Data/test_non\"\n",
        "os.makedirs(output_audio_path, exist_ok=True)\n",
        "\n",
        "for file_name in os.listdir(folder_path):\n",
        "    if file_name.endswith(\".mp4\"):\n",
        "        video_path = os.path.join(folder_path, file_name)\n",
        "\n",
        "        audio_output_path = os.path.join(output_audio_path, f\"{os.path.splitext(file_name)[0]}.wav\")\n",
        "\n",
        "        video_clip = VideoFileClip(video_path)\n",
        "\n",
        "        audio_clip = video_clip.audio\n",
        "\n",
        "        audio_clip.write_audiofile(audio_output_path, codec='pcm_s16le')\n",
        "\n",
        "        video_clip.close()\n",
        "        audio_clip.close()\n",
        "\n",
        "print(\"Conversion completed!\")"
      ]
    },
    {
      "cell_type": "code",
      "execution_count": null,
      "metadata": {
        "id": "79wIh2yTmawV"
      },
      "outputs": [],
      "source": []
    },
    {
      "cell_type": "code",
      "execution_count": null,
      "metadata": {
        "colab": {
          "base_uri": "https://localhost:8080/"
        },
        "id": "EJtD0C-Q_GRN",
        "outputId": "be0451a3-4774-4337-e7ef-20e0cdf02e8c"
      },
      "outputs": [
        {
          "name": "stdout",
          "output_type": "stream",
          "text": [
            " Woke Capitalism Against America  Vivek Ramaswamy.wav: 26.22 minute\n",
            " The Best Way to Fix a Slow Metabolism – Dr Bergs Expert Advice.wav: 24.52 minute\n",
            " The MOST Important Intermittent Fasting Basics for Beginners MUST WATCH - Dr Berg.wav: 25.64 minute\n",
            " The 5 Pillars of Success I Live By.wav: 9.66 minute\n",
            " Toplam 86.04383333333332 minutes\n"
          ]
        }
      ],
      "source": [
        "import librosa\n",
        "import os\n",
        "input_folder = \"/content/drive/MyDrive/Data/Healthy People/Audio/\"\n",
        "result=0\n",
        "for filename in os.listdir(input_folder):\n",
        "    if filename.endswith(\".wav\"):\n",
        "        input_audio_file = os.path.join(input_folder, filename)\n",
        "        y, sr = librosa.load(\"input_audio_file\", sr=None)\n",
        "\n",
        "        duration = librosa.get_duration(y=y, sr=sr)/60\n",
        "        result = duration + result\n",
        "\n",
        "\n",
        "        print(f\" {filename}: {duration:.2f} minute\")\n",
        "print(f\" Toplam {result} minutes\")\n"
      ]
    },
    {
      "cell_type": "code",
      "execution_count": null,
      "metadata": {
        "id": "aNwASTZvO4oT"
      },
      "outputs": [],
      "source": [
        "import os\n",
        "import glob\n",
        "import librosa\n",
        "import soundfile as sf\n",
        "\n",
        "input_folder = '/content/drive/MyDrive/Data/speaker'\n",
        "output_folder = '/content/drive/MyDrive/Data/audio_without_silence'\n",
        "\n",
        "os.makedirs(output_folder, exist_ok=True)\n",
        "\n",
        "for audio_file in glob.glob(os.path.join(input_folder, '*.wav')):\n",
        "    y, sr = librosa.load(audio_file, sr=None)\n",
        "\n",
        "\n",
        "    y_trimmed, _ = librosa.effects.trim(y, top_db=20)\n",
        "\n",
        "    output_file = os.path.join(output_folder, os.path.basename(audio_file))\n",
        "\n",
        "    sf.write(output_file, y_trimmed, sr)\n",
        "\n",
        "    print(f\"Processed: {audio_file}\")\n",
        "\n",
        "print(\"Processing complete.\")\n"
      ]
    },
    {
      "cell_type": "markdown",
      "source": [
        "**Audio to segments**"
      ],
      "metadata": {
        "id": "XBovNqp0ika8"
      }
    },
    {
      "cell_type": "code",
      "execution_count": null,
      "metadata": {
        "colab": {
          "base_uri": "https://localhost:8080/"
        },
        "id": "1A3fuFKbO-2S",
        "outputId": "7278c284-6d65-4ab3-f3d4-1150b7fc1971"
      },
      "outputs": [
        {
          "output_type": "stream",
          "name": "stdout",
          "text": [
            "22 segments created successfully.\n",
            "18 segments created successfully.\n"
          ]
        }
      ],
      "source": [
        "from pydub import AudioSegment\n",
        "import os\n",
        "\n",
        "# Function to split audio file into segments\n",
        "def split_audio(input_audio_file, output_folder):\n",
        "    # Load the audio file\n",
        "    audio = AudioSegment.from_file(input_audio_file)\n",
        "\n",
        "    # Calculate the segment duration in milliseconds (5 minutes)\n",
        "    segment_duration = 5 * 1000\n",
        "\n",
        "    # Calculate the total duration of the audio in milliseconds\n",
        "    total_duration = len(audio)\n",
        "\n",
        "    # Calculate the number of segments\n",
        "    num_segments = total_duration // segment_duration\n",
        "\n",
        "    # Split the audio into segments\n",
        "    for i in range(num_segments):\n",
        "        start_time = i * segment_duration\n",
        "        end_time = (i + 1) * segment_duration\n",
        "        segment = audio[start_time:end_time]\n",
        "\n",
        "        # Save each segment to the output folder\n",
        "        segment.export(os.path.join(output_folder, f\"segment_{i + 1}.wav\"), format=\"wav\")\n",
        "\n",
        "    print(f\"{num_segments} segments created successfully.\")\n",
        "\n",
        "# Replace with your input audio folder path\n",
        "input_audio_folder= \"/content/drive/MyDrive/Data/audio_test/New folder\"\n",
        "\n",
        "# Replace with your desired output folder path\n",
        "output_folder = \"/content/drive/MyDrive/Data/audio_test/New folder\"\n",
        "\n",
        "# Iterate over all audio files in the input folder\n",
        "for filename in os.listdir(input_audio_folder):\n",
        "    if filename.endswith(\".wav\"):  # Assuming all files are in WAV format\n",
        "        input_audio_file = os.path.join(input_audio_folder, filename)\n",
        "        output_subfolder = os.path.join(output_folder, os.path.splitext(filename)[0])\n",
        "        os.makedirs(output_subfolder, exist_ok=True)\n",
        "        split_audio(input_audio_file, output_subfolder)\n"
      ]
    },
    {
      "cell_type": "markdown",
      "metadata": {
        "id": "v6Dg0BmHVYo6"
      },
      "source": [
        "**1460 audio segment**    **1585**\n",
        "\n",
        "**her tane 5 saniye**\n"
      ]
    }
  ],
  "metadata": {
    "colab": {
      "provenance": [],
      "authorship_tag": "ABX9TyO10lRS7jXEhUZuwEj0ZBQ3",
      "include_colab_link": true
    },
    "kernelspec": {
      "display_name": "Python 3",
      "name": "python3"
    },
    "language_info": {
      "name": "python"
    }
  },
  "nbformat": 4,
  "nbformat_minor": 0
}